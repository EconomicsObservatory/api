{
 "cells": [
  {
   "cell_type": "code",
   "execution_count": 34,
   "metadata": {},
   "outputs": [],
   "source": [
    "import requests, json, pandas as pd\n",
    "from pathlib import Path"
   ]
  },
  {
   "cell_type": "code",
   "execution_count": 37,
   "metadata": {},
   "outputs": [],
   "source": [
    "p = 'agency_data/nga/'\n",
    "Path(p).mkdir(parents=True, exist_ok=True)"
   ]
  },
  {
   "cell_type": "code",
   "execution_count": 38,
   "metadata": {},
   "outputs": [],
   "source": [
    "df = pd.read_csv('raw_data/nga/InflationRates28092023.csv')\n",
    "ind = 'infl'"
   ]
  },
  {
   "cell_type": "code",
   "execution_count": 39,
   "metadata": {},
   "outputs": [],
   "source": [
    "df['date']=pd.to_datetime(df.index.astype(str)+'-'+df['Year'].astype(str)+'-01').astype(str)\n",
    "df['values']=df['All Items (Year on Change)']\n",
    "df=df[['date','values']]"
   ]
  },
  {
   "cell_type": "code",
   "execution_count": 40,
   "metadata": {},
   "outputs": [
    {
     "name": "stderr",
     "output_type": "stream",
     "text": [
      "C:\\Users\\csala\\AppData\\Local\\Temp\\ipykernel_18160\\1885997638.py:3: UserWarning: DataFrame columns are not unique, some columns will be omitted.\n",
      "  'w').write(json.dumps(list(df.T.to_dict().values())))\n"
     ]
    },
    {
     "data": {
      "text/plain": [
       "840"
      ]
     },
     "execution_count": 40,
     "metadata": {},
     "output_type": "execute_result"
    }
   ],
   "source": [
    "df.to_csv(p+ind+ '.csv', index=False)\n",
    "open(p+ind+'.json',\n",
    "     'w').write(json.dumps(list(df.T.to_dict().values())))"
   ]
  },
  {
   "cell_type": "code",
   "execution_count": 47,
   "metadata": {},
   "outputs": [],
   "source": [
    "df = pd.read_csv('raw_data/nga/NominalGDP28092023.csv')\n",
    "ind = 'gdpa'"
   ]
  },
  {
   "cell_type": "code",
   "execution_count": 48,
   "metadata": {},
   "outputs": [],
   "source": [
    "df[df['tyear'] == 'Annual']\n",
    "df['date'] = df.index.astype(str)+'-01-01'\n",
    "df['values'] = df['GDPatCurrentBasicPrices']\n",
    "df = df[['date', 'values']]"
   ]
  },
  {
   "cell_type": "code",
   "execution_count": 49,
   "metadata": {},
   "outputs": [
    {
     "name": "stderr",
     "output_type": "stream",
     "text": [
      "C:\\Users\\csala\\AppData\\Local\\Temp\\ipykernel_18160\\855354434.py:2: UserWarning: DataFrame columns are not unique, some columns will be omitted.\n",
      "  open(p + ind + '.json', 'w').write(json.dumps(list(df.T.to_dict().values())))\n"
     ]
    },
    {
     "data": {
      "text/plain": [
       "1780"
      ]
     },
     "execution_count": 49,
     "metadata": {},
     "output_type": "execute_result"
    }
   ],
   "source": [
    "df.to_csv(p + ind + '.csv', index=False)\n",
    "open(p + ind + '.json', 'w').write(json.dumps(list(df.T.to_dict().values())))"
   ]
  },
  {
   "cell_type": "code",
   "execution_count": 50,
   "metadata": {},
   "outputs": [],
   "source": [
    "df = pd.read_csv('raw_data/nga/interbank28092023.csv')\n",
    "ind = 'iblr' #Interbank Lending Call Rate"
   ]
  },
  {
   "cell_type": "code",
   "execution_count": 54,
   "metadata": {},
   "outputs": [
    {
     "name": "stderr",
     "output_type": "stream",
     "text": [
      "C:\\Users\\csala\\AppData\\Local\\Temp\\ipykernel_18160\\2966436939.py:2: SettingWithCopyWarning: \n",
      "A value is trying to be set on a copy of a slice from a DataFrame.\n",
      "Try using .loc[row_indexer,col_indexer] = value instead\n",
      "\n",
      "See the caveats in the documentation: https://pandas.pydata.org/pandas-docs/stable/user_guide/indexing.html#returning-a-view-versus-a-copy\n",
      "  df['date'] = pd.to_datetime(df.index.astype(str)).astype(str)\n",
      "C:\\Users\\csala\\AppData\\Local\\Temp\\ipykernel_18160\\2966436939.py:3: SettingWithCopyWarning: \n",
      "A value is trying to be set on a copy of a slice from a DataFrame.\n",
      "Try using .loc[row_indexer,col_indexer] = value instead\n",
      "\n",
      "See the caveats in the documentation: https://pandas.pydata.org/pandas-docs/stable/user_guide/indexing.html#returning-a-view-versus-a-copy\n",
      "  df['values'] = df['Range']\n"
     ]
    }
   ],
   "source": [
    "df=df[df['Rate Date'] == 'Call Rate']\n",
    "df['date'] = pd.to_datetime(df.index.astype(str)).astype(str)\n",
    "df['values'] = df['Range']\n",
    "df = df[['date', 'values']]"
   ]
  },
  {
   "cell_type": "code",
   "execution_count": 55,
   "metadata": {},
   "outputs": [
    {
     "name": "stderr",
     "output_type": "stream",
     "text": [
      "C:\\Users\\csala\\AppData\\Local\\Temp\\ipykernel_18160\\855354434.py:2: UserWarning: DataFrame columns are not unique, some columns will be omitted.\n",
      "  open(p + ind + '.json', 'w').write(json.dumps(list(df.T.to_dict().values())))\n"
     ]
    },
    {
     "data": {
      "text/plain": [
       "154371"
      ]
     },
     "execution_count": 55,
     "metadata": {},
     "output_type": "execute_result"
    }
   ],
   "source": [
    "df.to_csv(p + ind + '.csv', index=False)\n",
    "open(p + ind + '.json', 'w').write(json.dumps(list(df.T.to_dict().values())))"
   ]
  }
 ],
 "metadata": {
  "kernelspec": {
   "display_name": "Python 3",
   "language": "python",
   "name": "python3"
  },
  "language_info": {
   "codemirror_mode": {
    "name": "ipython",
    "version": 3
   },
   "file_extension": ".py",
   "mimetype": "text/x-python",
   "name": "python",
   "nbconvert_exporter": "python",
   "pygments_lexer": "ipython3",
   "version": "3.10.2"
  },
  "orig_nbformat": 4
 },
 "nbformat": 4,
 "nbformat_minor": 2
}
