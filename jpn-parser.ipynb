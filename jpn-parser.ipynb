{
 "cells": [
  {
   "cell_type": "code",
   "execution_count": 1,
   "metadata": {},
   "outputs": [],
   "source": [
    "import requests, json, pandas as pd\n",
    "from pathlib import Path"
   ]
  },
  {
   "cell_type": "code",
   "execution_count": 78,
   "metadata": {},
   "outputs": [],
   "source": [
    "p = 'agency_data/jpn/'\n",
    "Path(p).mkdir(parents=True, exist_ok=True)"
   ]
  },
  {
   "cell_type": "code",
   "execution_count": 4,
   "metadata": {},
   "outputs": [
    {
     "name": "stdout",
     "output_type": "stream",
     "text": [
      "e:\\OneDrive\\Github\\eco\\api\\agency_data\\jpn\n"
     ]
    }
   ],
   "source": [
    "%cd {p}"
   ]
  },
  {
   "cell_type": "code",
   "execution_count": 6,
   "metadata": {},
   "outputs": [],
   "source": [
    "# !pip install jpstat"
   ]
  },
  {
   "cell_type": "code",
   "execution_count": 19,
   "metadata": {},
   "outputs": [],
   "source": [
    "import jpstat\n",
    "apik='1c3c328af361bec004fe45a25284c99dfe90b0ed'\n",
    "stat = jpstat.estat.get_stat(key=apik)\n",
    "jpstat.options[\"estat.api_key\"] = apik"
   ]
  },
  {
   "cell_type": "code",
   "execution_count": 22,
   "metadata": {},
   "outputs": [
    {
     "ename": "QueryError",
     "evalue": "Request failed unexpectedly with code 300: 統計表ID（statsDataId）=[00200521]のデータは存在しません。IDを確認して下さい。",
     "output_type": "error",
     "traceback": [
      "\u001b[1;31m---------------------------------------------------------------------------\u001b[0m",
      "\u001b[1;31mQueryError\u001b[0m                                Traceback (most recent call last)",
      "\u001b[1;32me:\\OneDrive\\Github\\eco\\api\\jpn-parser.ipynb Cell 6\u001b[0m in \u001b[0;36m<cell line: 1>\u001b[1;34m()\u001b[0m\n\u001b[1;32m----> <a href='vscode-notebook-cell:/e%3A/OneDrive/Github/eco/api/jpn-parser.ipynb#W5sZmlsZQ%3D%3D?line=0'>1</a>\u001b[0m data \u001b[39m=\u001b[39m jpstat\u001b[39m.\u001b[39;49mestat\u001b[39m.\u001b[39;49mget_data(statsDataId\u001b[39m=\u001b[39;49m\u001b[39m\"\u001b[39;49m\u001b[39m00200521\u001b[39;49m\u001b[39m\"\u001b[39;49m, return_note\u001b[39m=\u001b[39;49m\u001b[39mFalse\u001b[39;49;00m)\n",
      "File \u001b[1;32mc:\\Program Files\\Python\\lib\\site-packages\\jpstat\\estat\\core.py:42\u001b[0m, in \u001b[0;36mget_data\u001b[1;34m(statsDataId, return_note, key, lang, **kwargs)\u001b[0m\n\u001b[0;32m     40\u001b[0m \u001b[39mdef\u001b[39;00m \u001b[39mget_data\u001b[39m(statsDataId, return_note\u001b[39m=\u001b[39m\u001b[39mTrue\u001b[39;00m, key\u001b[39m=\u001b[39m\u001b[39mNone\u001b[39;00m, lang\u001b[39m=\u001b[39m\u001b[39mNone\u001b[39;00m,  \u001b[39m*\u001b[39m\u001b[39m*\u001b[39mkwargs):\n\u001b[0;32m     41\u001b[0m     api \u001b[39m=\u001b[39m API(key\u001b[39m=\u001b[39mkey, lang\u001b[39m=\u001b[39mlang)\n\u001b[1;32m---> 42\u001b[0m     data \u001b[39m=\u001b[39m api\u001b[39m.\u001b[39mget_data(statsDataId\u001b[39m=\u001b[39mstatsDataId, \u001b[39m*\u001b[39m\u001b[39m*\u001b[39mkwargs)\n\u001b[0;32m     43\u001b[0m     df \u001b[39m=\u001b[39m pd\u001b[39m.\u001b[39mDataFrame(data[\u001b[39m'\u001b[39m\u001b[39mSTATISTICAL_DATA\u001b[39m\u001b[39m'\u001b[39m][\u001b[39m'\u001b[39m\u001b[39mDATA_INF\u001b[39m\u001b[39m'\u001b[39m][\u001b[39m'\u001b[39m\u001b[39mVALUE\u001b[39m\u001b[39m'\u001b[39m])\n\u001b[0;32m     45\u001b[0m     res \u001b[39m=\u001b[39m data[\u001b[39m'\u001b[39m\u001b[39mSTATISTICAL_DATA\u001b[39m\u001b[39m'\u001b[39m][\u001b[39m'\u001b[39m\u001b[39mRESULT_INF\u001b[39m\u001b[39m'\u001b[39m]\n",
      "File \u001b[1;32mc:\\Program Files\\Python\\lib\\site-packages\\jpstat\\estat\\api.py:92\u001b[0m, in \u001b[0;36mAPI.get_data\u001b[1;34m(self, statsDataId, **kwargs)\u001b[0m\n\u001b[0;32m     89\u001b[0m params \u001b[39m=\u001b[39m {\u001b[39m*\u001b[39m\u001b[39m*\u001b[39m\u001b[39mself\u001b[39m\u001b[39m.\u001b[39mparams, \u001b[39m*\u001b[39m\u001b[39m*\u001b[39mparams}\n\u001b[0;32m     91\u001b[0m res \u001b[39m=\u001b[39m \u001b[39mself\u001b[39m\u001b[39m.\u001b[39msess\u001b[39m.\u001b[39mget(url, params\u001b[39m=\u001b[39mparams,)\n\u001b[1;32m---> 92\u001b[0m data \u001b[39m=\u001b[39m validate_query(res, root_meta\u001b[39m=\u001b[39;49m\u001b[39m'\u001b[39;49m\u001b[39mGET_STATS_DATA\u001b[39;49m\u001b[39m'\u001b[39;49m)\n\u001b[0;32m     93\u001b[0m \u001b[39mreturn\u001b[39;00m data\n",
      "File \u001b[1;32mc:\\Program Files\\Python\\lib\\site-packages\\jpstat\\estat\\util\\validate.py:64\u001b[0m, in \u001b[0;36mvalidate_query\u001b[1;34m(res, root_meta)\u001b[0m\n\u001b[0;32m     62\u001b[0m     error_msg \u001b[39m=\u001b[39m data[\u001b[39m'\u001b[39m\u001b[39mRESULT\u001b[39m\u001b[39m'\u001b[39m][\u001b[39m'\u001b[39m\u001b[39mERROR_MSG\u001b[39m\u001b[39m'\u001b[39m]\n\u001b[0;32m     63\u001b[0m     msg \u001b[39m=\u001b[39m \u001b[39mf\u001b[39m\u001b[39m\"\u001b[39m\u001b[39mRequest failed unexpectedly with code \u001b[39m\u001b[39m{\u001b[39;00mstatus\u001b[39m}\u001b[39;00m\u001b[39m: \u001b[39m\u001b[39m{\u001b[39;00merror_msg\u001b[39m}\u001b[39;00m\u001b[39m\"\u001b[39m\n\u001b[1;32m---> 64\u001b[0m     \u001b[39mraise\u001b[39;00m QueryError(msg, res)\n\u001b[0;32m     65\u001b[0m \u001b[39mreturn\u001b[39;00m data\n",
      "\u001b[1;31mQueryError\u001b[0m: Request failed unexpectedly with code 300: 統計表ID（statsDataId）=[00200521]のデータは存在しません。IDを確認して下さい。"
     ]
    }
   ],
   "source": [
    "data = jpstat.estat.get_data(statsDataId=\"00200521\", return_note=False)"
   ]
  },
  {
   "cell_type": "code",
   "execution_count": 28,
   "metadata": {},
   "outputs": [],
   "source": []
  },
  {
   "cell_type": "code",
   "execution_count": 84,
   "metadata": {},
   "outputs": [],
   "source": [
    "i2 = '0201010000000010000'\n",
    "ind = 'popu'\n",
    "r = requests.get(\n",
    "    'https://dashboard.e-stat.go.jp/api/1.0/Json/getData?Lang=EN&IndicatorCode='\n",
    "    + i2 + '&RegionalRank=2').json()\n",
    "df=pd.DataFrame([i['VALUE'] for i in r['GET_STATS']['STATISTICAL_DATA']['DATA_INF']['DATA_OBJ']])[['@time','$']]\n",
    "df = df.head(1694)\n",
    "df.columns = ['year', 'value']\n",
    "df['date'] = df['year'].str[:4]+'-'+df['year'].str[4:6]+'-'+df['year'].str[6:8].replace('00','01')\n",
    "df=df.drop('year', axis=1)"
   ]
  },
  {
   "cell_type": "code",
   "execution_count": 85,
   "metadata": {},
   "outputs": [
    {
     "data": {
      "text/plain": [
       "30107"
      ]
     },
     "execution_count": 85,
     "metadata": {},
     "output_type": "execute_result"
    }
   ],
   "source": [
    "df.to_csv(p + ind + '.csv', index=False)\n",
    "open(p + ind + '.json', 'w').write(json.dumps(list(df.T.to_dict().values())))"
   ]
  }
 ],
 "metadata": {
  "kernelspec": {
   "display_name": "Python 3",
   "language": "python",
   "name": "python3"
  },
  "language_info": {
   "codemirror_mode": {
    "name": "ipython",
    "version": 3
   },
   "file_extension": ".py",
   "mimetype": "text/x-python",
   "name": "python",
   "nbconvert_exporter": "python",
   "pygments_lexer": "ipython3",
   "version": "3.10.2"
  },
  "orig_nbformat": 4
 },
 "nbformat": 4,
 "nbformat_minor": 2
}
